{
 "cells": [
  {
   "cell_type": "code",
   "execution_count": 391,
   "metadata": {},
   "outputs": [],
   "source": [
    "import pandas as pd\n",
    "import seaborn as sns\n",
    "import matplotlib.pyplot as plt\n",
    "import numpy as np\n",
    "import datetime as dt\n",
    "from sklearn.linear_model import LogisticRegression \n",
    "from sklearn.tree import DecisionTreeClassifier\n",
    "from sklearn.ensemble import RandomForestClassifier\n",
    "from sklearn.metrics import confusion_matrix, accuracy_score \n",
    "from sklearn.model_selection import train_test_split\n",
    "from sklearn.neighbors import KNeighborsClassifier\n",
    "from sklearn.svm import SVC, LinearSVC\n",
    "from sklearn.naive_bayes import GaussianNB, BernoulliNB, MultinomialNB\n",
    "from missingpy import MissForest\n",
    "import warnings\n",
    "\n",
    "warnings.filterwarnings('ignore')"
   ]
  },
  {
   "cell_type": "code",
   "execution_count": 392,
   "metadata": {},
   "outputs": [
    {
     "data": {
      "text/html": [
       "<div>\n",
       "<style scoped>\n",
       "    .dataframe tbody tr th:only-of-type {\n",
       "        vertical-align: middle;\n",
       "    }\n",
       "\n",
       "    .dataframe tbody tr th {\n",
       "        vertical-align: top;\n",
       "    }\n",
       "\n",
       "    .dataframe thead th {\n",
       "        text-align: right;\n",
       "    }\n",
       "</style>\n",
       "<table border=\"1\" class=\"dataframe\">\n",
       "  <thead>\n",
       "    <tr style=\"text-align: right;\">\n",
       "      <th></th>\n",
       "      <th>Unnamed: 0</th>\n",
       "      <th>match_event_id</th>\n",
       "      <th>location_x</th>\n",
       "      <th>location_y</th>\n",
       "      <th>remaining_min</th>\n",
       "      <th>power_of_shot</th>\n",
       "      <th>knockout_match</th>\n",
       "      <th>game_season</th>\n",
       "      <th>remaining_sec</th>\n",
       "      <th>distance_of_shot</th>\n",
       "      <th>...</th>\n",
       "      <th>lat/lng</th>\n",
       "      <th>type_of_shot</th>\n",
       "      <th>type_of_combined_shot</th>\n",
       "      <th>match_id</th>\n",
       "      <th>team_id</th>\n",
       "      <th>remaining_min.1</th>\n",
       "      <th>power_of_shot.1</th>\n",
       "      <th>knockout_match.1</th>\n",
       "      <th>remaining_sec.1</th>\n",
       "      <th>distance_of_shot.1</th>\n",
       "    </tr>\n",
       "  </thead>\n",
       "  <tbody>\n",
       "    <tr>\n",
       "      <th>0</th>\n",
       "      <td>0</td>\n",
       "      <td>10.0</td>\n",
       "      <td>167.0</td>\n",
       "      <td>72.0</td>\n",
       "      <td>10.0</td>\n",
       "      <td>1.0</td>\n",
       "      <td>0.0</td>\n",
       "      <td>2000-01</td>\n",
       "      <td>27.0</td>\n",
       "      <td>38.0</td>\n",
       "      <td>...</td>\n",
       "      <td>45.539131, -122.651648</td>\n",
       "      <td>shot - 30</td>\n",
       "      <td>NaN</td>\n",
       "      <td>20000012</td>\n",
       "      <td>1610612747</td>\n",
       "      <td>10.00</td>\n",
       "      <td>1.0</td>\n",
       "      <td>50.608</td>\n",
       "      <td>54.2000</td>\n",
       "      <td>38.0</td>\n",
       "    </tr>\n",
       "    <tr>\n",
       "      <th>1</th>\n",
       "      <td>1</td>\n",
       "      <td>12.0</td>\n",
       "      <td>-157.0</td>\n",
       "      <td>0.0</td>\n",
       "      <td>10.0</td>\n",
       "      <td>1.0</td>\n",
       "      <td>0.0</td>\n",
       "      <td>2000-01</td>\n",
       "      <td>22.0</td>\n",
       "      <td>35.0</td>\n",
       "      <td>...</td>\n",
       "      <td>45.539131, -122.651648</td>\n",
       "      <td>shot - 45</td>\n",
       "      <td>NaN</td>\n",
       "      <td>20000012</td>\n",
       "      <td>1610612747</td>\n",
       "      <td>10.00</td>\n",
       "      <td>1.0</td>\n",
       "      <td>28.800</td>\n",
       "      <td>22.0000</td>\n",
       "      <td>35.0</td>\n",
       "    </tr>\n",
       "    <tr>\n",
       "      <th>2</th>\n",
       "      <td>2</td>\n",
       "      <td>35.0</td>\n",
       "      <td>-101.0</td>\n",
       "      <td>135.0</td>\n",
       "      <td>7.0</td>\n",
       "      <td>1.0</td>\n",
       "      <td>0.0</td>\n",
       "      <td>2000-01</td>\n",
       "      <td>45.0</td>\n",
       "      <td>36.0</td>\n",
       "      <td>...</td>\n",
       "      <td>45.539131, -122.651648</td>\n",
       "      <td>shot - 25</td>\n",
       "      <td>NaN</td>\n",
       "      <td>20000012</td>\n",
       "      <td>1610612747</td>\n",
       "      <td>92.64</td>\n",
       "      <td>1.0</td>\n",
       "      <td>0.000</td>\n",
       "      <td>63.7216</td>\n",
       "      <td>54.4</td>\n",
       "    </tr>\n",
       "    <tr>\n",
       "      <th>3</th>\n",
       "      <td>3</td>\n",
       "      <td>43.0</td>\n",
       "      <td>138.0</td>\n",
       "      <td>175.0</td>\n",
       "      <td>6.0</td>\n",
       "      <td>1.0</td>\n",
       "      <td>0.0</td>\n",
       "      <td>2000-01</td>\n",
       "      <td>52.0</td>\n",
       "      <td>42.0</td>\n",
       "      <td>...</td>\n",
       "      <td>45.539131, -122.651648</td>\n",
       "      <td>NaN</td>\n",
       "      <td>shot - 3</td>\n",
       "      <td>20000012</td>\n",
       "      <td>1610612747</td>\n",
       "      <td>NaN</td>\n",
       "      <td>1.0</td>\n",
       "      <td>122.608</td>\n",
       "      <td>52.0000</td>\n",
       "      <td>42.0</td>\n",
       "    </tr>\n",
       "    <tr>\n",
       "      <th>4</th>\n",
       "      <td>4</td>\n",
       "      <td>155.0</td>\n",
       "      <td>0.0</td>\n",
       "      <td>0.0</td>\n",
       "      <td>NaN</td>\n",
       "      <td>2.0</td>\n",
       "      <td>0.0</td>\n",
       "      <td>2000-01</td>\n",
       "      <td>19.0</td>\n",
       "      <td>20.0</td>\n",
       "      <td>...</td>\n",
       "      <td>45.539131, -122.651648</td>\n",
       "      <td>NaN</td>\n",
       "      <td>shot - 1</td>\n",
       "      <td>20000012</td>\n",
       "      <td>1610612747</td>\n",
       "      <td>42.64</td>\n",
       "      <td>2.0</td>\n",
       "      <td>0.000</td>\n",
       "      <td>19.0000</td>\n",
       "      <td>20.0</td>\n",
       "    </tr>\n",
       "  </tbody>\n",
       "</table>\n",
       "<p>5 rows × 28 columns</p>\n",
       "</div>"
      ],
      "text/plain": [
       "   Unnamed: 0  match_event_id  location_x  location_y  remaining_min  \\\n",
       "0           0            10.0       167.0        72.0           10.0   \n",
       "1           1            12.0      -157.0         0.0           10.0   \n",
       "2           2            35.0      -101.0       135.0            7.0   \n",
       "3           3            43.0       138.0       175.0            6.0   \n",
       "4           4           155.0         0.0         0.0            NaN   \n",
       "\n",
       "   power_of_shot  knockout_match game_season  remaining_sec  distance_of_shot  \\\n",
       "0            1.0             0.0     2000-01           27.0              38.0   \n",
       "1            1.0             0.0     2000-01           22.0              35.0   \n",
       "2            1.0             0.0     2000-01           45.0              36.0   \n",
       "3            1.0             0.0     2000-01           52.0              42.0   \n",
       "4            2.0             0.0     2000-01           19.0              20.0   \n",
       "\n",
       "   ...                 lat/lng type_of_shot type_of_combined_shot  match_id  \\\n",
       "0  ...  45.539131, -122.651648    shot - 30                   NaN  20000012   \n",
       "1  ...  45.539131, -122.651648    shot - 45                   NaN  20000012   \n",
       "2  ...  45.539131, -122.651648    shot - 25                   NaN  20000012   \n",
       "3  ...  45.539131, -122.651648          NaN              shot - 3  20000012   \n",
       "4  ...  45.539131, -122.651648          NaN              shot - 1  20000012   \n",
       "\n",
       "      team_id remaining_min.1 power_of_shot.1  knockout_match.1  \\\n",
       "0  1610612747           10.00             1.0            50.608   \n",
       "1  1610612747           10.00             1.0            28.800   \n",
       "2  1610612747           92.64             1.0             0.000   \n",
       "3  1610612747             NaN             1.0           122.608   \n",
       "4  1610612747           42.64             2.0             0.000   \n",
       "\n",
       "  remaining_sec.1 distance_of_shot.1  \n",
       "0         54.2000               38.0  \n",
       "1         22.0000               35.0  \n",
       "2         63.7216               54.4  \n",
       "3         52.0000               42.0  \n",
       "4         19.0000               20.0  \n",
       "\n",
       "[5 rows x 28 columns]"
      ]
     },
     "execution_count": 392,
     "metadata": {},
     "output_type": "execute_result"
    }
   ],
   "source": [
    "df = pd.read_csv('data.csv')\n",
    "df.head()"
   ]
  },
  {
   "cell_type": "code",
   "execution_count": 393,
   "metadata": {},
   "outputs": [
    {
     "name": "stdout",
     "output_type": "stream",
     "text": [
      "<class 'pandas.core.frame.DataFrame'>\n",
      "RangeIndex: 30697 entries, 0 to 30696\n",
      "Data columns (total 28 columns):\n",
      "Unnamed: 0               30697 non-null int64\n",
      "match_event_id           29134 non-null float64\n",
      "location_x               29236 non-null float64\n",
      "location_y               29157 non-null float64\n",
      "remaining_min            29135 non-null float64\n",
      "power_of_shot            29211 non-null float64\n",
      "knockout_match           29180 non-null float64\n",
      "game_season              24835 non-null object\n",
      "remaining_sec            29103 non-null float64\n",
      "distance_of_shot         29130 non-null float64\n",
      "is_goal                  24429 non-null float64\n",
      "area_of_shot             29195 non-null object\n",
      "shot_basics              29122 non-null object\n",
      "range_of_shot            29133 non-null object\n",
      "team_name                29162 non-null object\n",
      "date_of_game             29147 non-null object\n",
      "home/away                29200 non-null object\n",
      "shot_id_number           29134 non-null float64\n",
      "lat/lng                  29132 non-null object\n",
      "type_of_shot             15417 non-null object\n",
      "type_of_combined_shot    15280 non-null object\n",
      "match_id                 30697 non-null int64\n",
      "team_id                  30697 non-null int64\n",
      "remaining_min.1          29162 non-null float64\n",
      "power_of_shot.1          29158 non-null float64\n",
      "knockout_match.1         29204 non-null float64\n",
      "remaining_sec.1          29158 non-null float64\n",
      "distance_of_shot.1       29129 non-null float64\n",
      "dtypes: float64(15), int64(3), object(10)\n",
      "memory usage: 6.6+ MB\n"
     ]
    }
   ],
   "source": [
    "df.info()"
   ]
  },
  {
   "cell_type": "code",
   "execution_count": 394,
   "metadata": {},
   "outputs": [
    {
     "data": {
      "text/plain": [
       "<matplotlib.axes._subplots.AxesSubplot at 0x1a244e3390>"
      ]
     },
     "execution_count": 394,
     "metadata": {},
     "output_type": "execute_result"
    },
    {
     "data": {
      "image/png": "[encoded data removed]",
      "text/plain": [
       "<Figure size 432x288 with 1 Axes>"
      ]
     },
     "metadata": {
      "needs_background": "light"
     },
     "output_type": "display_data"
    }
   ],
   "source": [
    "sns.countplot(x='is_goal', data=df)"
   ]
  },
  {
   "cell_type": "code",
   "execution_count": 395,
   "metadata": {},
   "outputs": [
    {
     "data": {
      "image/png": "[encoded data removed]",
      "text/plain": [
       "<Figure size 864x1296 with 1 Axes>"
      ]
     },
     "metadata": {
      "needs_background": "light"
     },
     "output_type": "display_data"
    }
   ],
   "source": [
    "missing_df = df.isnull().sum(axis=0).reset_index()\n",
    "missing_df.columns = ['column_name', 'missing_count']\n",
    "missing_df = missing_df.loc[missing_df['missing_count']>0]\n",
    "missing_df = missing_df.sort_values(by='missing_count')\n",
    "\n",
    "ind = np.arange(missing_df.shape[0])\n",
    "width = 0.9\n",
    "fig, ax = plt.subplots(figsize=(12,18))\n",
    "rects = ax.barh(ind, missing_df.missing_count.values, color='blue')\n",
    "ax.set_yticks(ind)\n",
    "ax.set_yticklabels(missing_df.column_name.values, rotation='horizontal')\n",
    "ax.set_xlabel(\"Count of missing values\")\n",
    "ax.set_title(\"Number of missing values in each column\")\n",
    "plt.show()"
   ]
  },
  {
   "cell_type": "code",
   "execution_count": 396,
   "metadata": {},
   "outputs": [],
   "source": [
    "df = df.drop(['type_of_combined_shot', 'type_of_shot', 'game_season', 'Unnamed: 0', \n",
    "              'shot_id_number', 'team_id', 'team_name'], axis=1)"
   ]
  },
  {
   "cell_type": "code",
   "execution_count": 397,
   "metadata": {},
   "outputs": [],
   "source": [
    "a = list(df['lat/lng'])\n",
    "latitude = []\n",
    "longitude = []\n",
    "for i in a:\n",
    "    try:\n",
    "        x = i.split(', ')\n",
    "        l1 = 1\n",
    "        l2 = 1\n",
    "        if x[0][0] == '-':\n",
    "            l1 = -1\n",
    "            x[0] = x[0][1:]\n",
    "        if x[1][0] == '-':\n",
    "            l2 = -1\n",
    "            x[1] = x[1][1:]\n",
    "        latitude.append(float(float(x[0]) * l1))\n",
    "#         print(float(x[0]))\n",
    "        longitude.append(float(float(x[1]) * l2))\n",
    "#         print(float(x[1]))\n",
    "    except:\n",
    "        latitude.append(np.nan)\n",
    "        longitude.append(np.nan)\n",
    "        \n",
    "df['latitude'] = pd.DataFrame(latitude)\n",
    "df['longitude'] = pd.DataFrame(longitude)"
   ]
  },
  {
   "cell_type": "code",
   "execution_count": 398,
   "metadata": {},
   "outputs": [
    {
     "data": {
      "image/png": "[encoded data removed]",
      "text/plain": [
       "<Figure size 864x1296 with 1 Axes>"
      ]
     },
     "metadata": {
      "needs_background": "light"
     },
     "output_type": "display_data"
    }
   ],
   "source": [
    "missing_df = df.isnull().sum(axis=0).reset_index()\n",
    "missing_df.columns = ['column_name', 'missing_count']\n",
    "missing_df = missing_df.loc[missing_df['missing_count']>0]\n",
    "missing_df = missing_df.sort_values(by='missing_count')\n",
    "\n",
    "ind = np.arange(missing_df.shape[0])\n",
    "width = 0.9\n",
    "fig, ax = plt.subplots(figsize=(12,18))\n",
    "rects = ax.barh(ind, missing_df.missing_count.values, color='blue')\n",
    "ax.set_yticks(ind)\n",
    "ax.set_yticklabels(missing_df.column_name.values, rotation='horizontal')\n",
    "ax.set_xlabel(\"Count of missing values\")\n",
    "ax.set_title(\"Number of missing values in each column\")\n",
    "plt.show()"
   ]
  },
  {
   "cell_type": "code",
   "execution_count": 399,
   "metadata": {},
   "outputs": [],
   "source": [
    "df = df.drop('lat/lng', axis=1)"
   ]
  },
  {
   "cell_type": "code",
   "execution_count": 400,
   "metadata": {},
   "outputs": [
    {
     "name": "stdout",
     "output_type": "stream",
     "text": [
      "area_of_shot :  7\n",
      "shot_basics :  8\n",
      "range_of_shot :  6\n",
      "date_of_game :  1559\n",
      "home/away :  75\n",
      "<class 'pandas.core.frame.DataFrame'>\n",
      "RangeIndex: 30697 entries, 0 to 30696\n",
      "Data columns (total 5 columns):\n",
      "area_of_shot     29195 non-null object\n",
      "shot_basics      29122 non-null object\n",
      "range_of_shot    29133 non-null object\n",
      "date_of_game     29147 non-null datetime64[ns]\n",
      "home/away        29200 non-null object\n",
      "dtypes: datetime64[ns](1), object(4)\n",
      "memory usage: 1.2+ MB\n",
      "None\n"
     ]
    }
   ],
   "source": [
    "a = ['area_of_shot', 'shot_basics', 'range_of_shot', 'date_of_game', 'home/away']\n",
    "df1 = df[a]\n",
    "\n",
    "# print(df1.info())\n",
    "\n",
    "for i in df1.columns:\n",
    "    print(i, ': ', len(df1[i].unique()))\n",
    "    \n",
    "# print(df1.head())\n",
    "\n",
    "# print(list(df1['date_of_game'])[:5])\n",
    "\n",
    "start, stop, step = -3, -1, 1\n",
    "df1[\"home/away\"] = df1[\"home/away\"].str[-3:]\n",
    "\n",
    "# home_away = list(df1['home/away'])\n",
    "# new_home_away = []\n",
    "# for i in home_away:\n",
    "#     new_home_away.append()\n",
    "\n",
    "df1['date_of_game']= pd.to_datetime(df1['date_of_game'])\n",
    "print(df1.info())\n",
    "\n",
    "# for i in df1.columns:\n",
    "#     print(i, ': ', len(df1[i].unique()))"
   ]
  },
  {
   "cell_type": "code",
   "execution_count": 401,
   "metadata": {},
   "outputs": [],
   "source": [
    "df = df.drop(a, axis=1)\n",
    "df = df.join(df1)"
   ]
  },
  {
   "cell_type": "code",
   "execution_count": 402,
   "metadata": {},
   "outputs": [
    {
     "name": "stdout",
     "output_type": "stream",
     "text": [
      "<class 'pandas.core.frame.DataFrame'>\n",
      "RangeIndex: 30697 entries, 0 to 30696\n",
      "Data columns (total 22 columns):\n",
      "match_event_id        29134 non-null float64\n",
      "location_x            29236 non-null float64\n",
      "location_y            29157 non-null float64\n",
      "remaining_min         29135 non-null float64\n",
      "power_of_shot         29211 non-null float64\n",
      "knockout_match        29180 non-null float64\n",
      "remaining_sec         29103 non-null float64\n",
      "distance_of_shot      29130 non-null float64\n",
      "is_goal               24429 non-null float64\n",
      "match_id              30697 non-null int64\n",
      "remaining_min.1       29162 non-null float64\n",
      "power_of_shot.1       29158 non-null float64\n",
      "knockout_match.1      29204 non-null float64\n",
      "remaining_sec.1       29158 non-null float64\n",
      "distance_of_shot.1    29129 non-null float64\n",
      "latitude              29132 non-null float64\n",
      "longitude             29132 non-null float64\n",
      "area_of_shot          29195 non-null object\n",
      "shot_basics           29122 non-null object\n",
      "range_of_shot         29133 non-null object\n",
      "date_of_game          29147 non-null datetime64[ns]\n",
      "home/away             29200 non-null object\n",
      "dtypes: datetime64[ns](1), float64(16), int64(1), object(4)\n",
      "memory usage: 5.2+ MB\n"
     ]
    }
   ],
   "source": [
    "df.info()"
   ]
  },
  {
   "cell_type": "code",
   "execution_count": 403,
   "metadata": {},
   "outputs": [
    {
     "data": {
      "text/plain": [
       "match_event_id        1563\n",
       "location_x            1461\n",
       "location_y            1540\n",
       "remaining_min         1562\n",
       "power_of_shot         1486\n",
       "knockout_match        1517\n",
       "remaining_sec         1594\n",
       "distance_of_shot      1567\n",
       "is_goal               6268\n",
       "match_id                 0\n",
       "remaining_min.1       1535\n",
       "power_of_shot.1       1539\n",
       "knockout_match.1      1493\n",
       "remaining_sec.1       1539\n",
       "distance_of_shot.1    1568\n",
       "latitude              1565\n",
       "longitude             1565\n",
       "area_of_shot          1502\n",
       "shot_basics           1575\n",
       "range_of_shot         1564\n",
       "date_of_game          1550\n",
       "home/away             1497\n",
       "dtype: int64"
      ]
     },
     "execution_count": 403,
     "metadata": {},
     "output_type": "execute_result"
    }
   ],
   "source": [
    "df.isnull().sum(axis = 0)"
   ]
  },
  {
   "cell_type": "code",
   "execution_count": 404,
   "metadata": {
    "scrolled": true
   },
   "outputs": [],
   "source": [
    "# for i in df1.columns:\n",
    "#     fig, ax = plt.subplots(figsize=(12, 6))\n",
    "#     sns.countplot(x=i, data=df1)\n",
    "#     plt.show()"
   ]
  },
  {
   "cell_type": "code",
   "execution_count": 405,
   "metadata": {},
   "outputs": [
    {
     "data": {
      "text/plain": [
       "area_of_shot        0\n",
       "shot_basics         0\n",
       "range_of_shot       0\n",
       "date_of_game     1550\n",
       "home/away           0\n",
       "dtype: int64"
      ]
     },
     "execution_count": 405,
     "metadata": {},
     "output_type": "execute_result"
    }
   ],
   "source": [
    "b = ['area_of_shot', 'shot_basics', 'range_of_shot', 'home/away']\n",
    "for i in b:\n",
    "    s = df[i].value_counts(normalize=True)\n",
    "    missing = df1[i].isnull()\n",
    "    df1.loc[missing, i] = np.random.choice(s.index, size=len(df[missing]), p=s.values)\n",
    "    \n",
    "df1.isnull().sum(axis = 0)"
   ]
  },
  {
   "cell_type": "code",
   "execution_count": 406,
   "metadata": {},
   "outputs": [],
   "source": [
    "df = df.drop(b, axis=1)\n",
    "df = df.join(df1[b])"
   ]
  },
  {
   "cell_type": "code",
   "execution_count": 407,
   "metadata": {},
   "outputs": [
    {
     "name": "stdout",
     "output_type": "stream",
     "text": [
      "<class 'pandas.core.frame.DataFrame'>\n",
      "RangeIndex: 30697 entries, 0 to 30696\n",
      "Data columns (total 22 columns):\n",
      "match_event_id        29134 non-null float64\n",
      "location_x            29236 non-null float64\n",
      "location_y            29157 non-null float64\n",
      "remaining_min         29135 non-null float64\n",
      "power_of_shot         29211 non-null float64\n",
      "knockout_match        29180 non-null float64\n",
      "remaining_sec         29103 non-null float64\n",
      "distance_of_shot      29130 non-null float64\n",
      "is_goal               24429 non-null float64\n",
      "match_id              30697 non-null int64\n",
      "remaining_min.1       29162 non-null float64\n",
      "power_of_shot.1       29158 non-null float64\n",
      "knockout_match.1      29204 non-null float64\n",
      "remaining_sec.1       29158 non-null float64\n",
      "distance_of_shot.1    29129 non-null float64\n",
      "latitude              29132 non-null float64\n",
      "longitude             29132 non-null float64\n",
      "date_of_game          29147 non-null datetime64[ns]\n",
      "area_of_shot          30697 non-null object\n",
      "shot_basics           30697 non-null object\n",
      "range_of_shot         30697 non-null object\n",
      "home/away             30697 non-null object\n",
      "dtypes: datetime64[ns](1), float64(16), int64(1), object(4)\n",
      "memory usage: 5.2+ MB\n"
     ]
    }
   ],
   "source": [
    "df.info()"
   ]
  },
  {
   "cell_type": "code",
   "execution_count": 408,
   "metadata": {},
   "outputs": [
    {
     "name": "stdout",
     "output_type": "stream",
     "text": [
      "(30697, 22)\n",
      "(30697, 56)\n",
      "(30697, 74)\n"
     ]
    }
   ],
   "source": [
    "df_new = pd.DataFrame()\n",
    "\n",
    "for i in b:\n",
    "    dfDummies = pd.get_dummies(df[i], prefix = i)\n",
    "    if df_new.shape == (0, 0):\n",
    "        df_new = dfDummies\n",
    "    else:\n",
    "        df_new = df_new.join(dfDummies)\n",
    "\n",
    "print(df.shape)\n",
    "\n",
    "df3 = df.copy()\n",
    "\n",
    "print(df_new.shape)\n",
    "\n",
    "df = df.drop(b, axis=1)\n",
    "df = df.join(df_new)\n",
    "\n",
    "print(df.shape)"
   ]
  },
  {
   "cell_type": "code",
   "execution_count": 409,
   "metadata": {},
   "outputs": [],
   "source": [
    "df2 = df.copy()\n",
    "df2['date_of_game'] = df2['date_of_game'].map(dt.datetime.toordinal)"
   ]
  },
  {
   "cell_type": "code",
   "execution_count": 410,
   "metadata": {},
   "outputs": [
    {
     "data": {
      "text/plain": [
       "0    730424\n",
       "1    730424\n",
       "2    730424\n",
       "3    730424\n",
       "4    730424\n",
       "Name: date_of_game, dtype: int64"
      ]
     },
     "execution_count": 410,
     "metadata": {},
     "output_type": "execute_result"
    }
   ],
   "source": [
    "df2['date_of_game'].head()"
   ]
  },
  {
   "cell_type": "code",
   "execution_count": 412,
   "metadata": {},
   "outputs": [
    {
     "name": "stdout",
     "output_type": "stream",
     "text": [
      "Iteration: 0\n",
      "Iteration: 1\n",
      "Iteration: 2\n",
      "Iteration: 3\n",
      "Iteration: 4\n"
     ]
    },
    {
     "data": {
      "text/plain": [
       "is_goal                               6268\n",
       "match_id                                 0\n",
       "date_of_game                             0\n",
       "area_of_shot_Center(C)                   0\n",
       "area_of_shot_Left Side Center(LC)        0\n",
       "area_of_shot_Left Side(L)                0\n",
       "area_of_shot_Mid Ground(MG)              0\n",
       "area_of_shot_Right Side Center(RC)       0\n",
       "area_of_shot_Right Side(R)               0\n",
       "shot_basics_Goal Area                    0\n",
       "shot_basics_Goal Line                    0\n",
       "shot_basics_Left Corner                  0\n",
       "shot_basics_Mid Ground Line              0\n",
       "shot_basics_Mid Range                    0\n",
       "shot_basics_Penalty Spot                 0\n",
       "shot_basics_Right Corner                 0\n",
       "range_of_shot_16-24 ft.                  0\n",
       "range_of_shot_24+ ft.                    0\n",
       "range_of_shot_8-16 ft.                   0\n",
       "range_of_shot_Back Court Shot            0\n",
       "range_of_shot_Less Than 8 ft.            0\n",
       "home/away_ATL                            0\n",
       "home/away_BKN                            0\n",
       "home/away_BOS                            0\n",
       "home/away_CHA                            0\n",
       "home/away_CHH                            0\n",
       "home/away_CHI                            0\n",
       "home/away_CLE                            0\n",
       "home/away_DAL                            0\n",
       "home/away_DEN                            0\n",
       "                                      ... \n",
       "home/away_OKC                            0\n",
       "home/away_ORL                            0\n",
       "home/away_PHI                            0\n",
       "home/away_PHO                            0\n",
       "home/away_PHX                            0\n",
       "home/away_POR                            0\n",
       "home/away_SAC                            0\n",
       "home/away_SAN                            0\n",
       "home/away_SAS                            0\n",
       "home/away_SEA                            0\n",
       "home/away_TOR                            0\n",
       "home/away_UTA                            0\n",
       "home/away_UTH                            0\n",
       "home/away_VAN                            0\n",
       "home/away_WAS                            0\n",
       "remaining_min                            0\n",
       "power_of_shot                            0\n",
       "knockout_match                           0\n",
       "match_event_id                           0\n",
       "location_x                               0\n",
       "location_y                               0\n",
       "remaining_sec                            0\n",
       "distance_of_shot                         0\n",
       "remaining_min.1                          0\n",
       "power_of_shot.1                          0\n",
       "knockout_match.1                         0\n",
       "remaining_sec.1                          0\n",
       "distance_of_shot.1                       0\n",
       "latitude                                 0\n",
       "longitude                                0\n",
       "Length: 74, dtype: int64"
      ]
     },
     "execution_count": 412,
     "metadata": {},
     "output_type": "execute_result"
    }
   ],
   "source": [
    "d = ['remaining_min', 'power_of_shot', 'knockout_match', 'match_event_id', 'location_x', 'location_y', \n",
    "     'remaining_sec', 'distance_of_shot', 'remaining_min.1', 'power_of_shot.1', 'knockout_match.1', \n",
    "     'remaining_sec.1', 'distance_of_shot.1', 'latitude', 'longitude']\n",
    "# for i in d:\n",
    "#     s = df2[i].value_counts(normalize=True)\n",
    "#     missing = df2[i].isnull()\n",
    "#     df2.loc[missing, i] = np.random.choice(s.index, size=len(df[missing]), p=s.values)\n",
    "\n",
    "imputer = MissForest()\n",
    "df_numeric= imputer.fit_transform(df2[d])\n",
    "df_numeric = pd.DataFrame(df_numeric, columns=d)\n",
    "df2 = df2.drop(d, 1)\n",
    "df2 = df2.join(df_numeric)\n",
    "df2.isnull().sum(axis = 0)"
   ]
  },
  {
   "cell_type": "code",
   "execution_count": 413,
   "metadata": {
    "scrolled": true
   },
   "outputs": [],
   "source": [
    "def scatter_plot(_x, _y):\n",
    "    sns.scatterplot(x=_x, y=_y)\n",
    "    plt.show()\n",
    "\n",
    "# for i in df2.columns:\n",
    "#     if i != 'is_goal':\n",
    "#         scatter_plot(df2.index, df2[i])"
   ]
  },
  {
   "cell_type": "code",
   "execution_count": 414,
   "metadata": {},
   "outputs": [
    {
     "name": "stdout",
     "output_type": "stream",
     "text": [
      "is_goal                          1.000000\n",
      "area_of_shot_Center(C)           0.133249\n",
      "shot_basics_Goal Area            0.177062\n",
      "shot_basics_Penalty Spot         0.101413\n",
      "range_of_shot_24+ ft.            0.108729\n",
      "range_of_shot_Less Than 8 ft.    0.162770\n",
      "location_y                       0.144828\n",
      "distance_of_shot                 0.197701\n",
      "Name: is_goal, dtype: float64\n",
      "8\n"
     ]
    },
    {
     "data": {
      "text/plain": [
       "<Figure size 864x720 with 0 Axes>"
      ]
     },
     "metadata": {},
     "output_type": "display_data"
    }
   ],
   "source": [
    "# Using Pearson Correlation\n",
    "plt.figure(figsize=(12,10))\n",
    "cor = df2.corr()\n",
    "# sns.heatmap(cor, annot=False, cmap=plt.cm.Reds)\n",
    "# plt.show()\n",
    "\n",
    "# Correlation with output variable\n",
    "cor_target = abs(cor['is_goal'])\n",
    "\n",
    "# Selecting highly correlated features\n",
    "relevant_features = cor_target[cor_target > 0.1]\n",
    "print(relevant_features)\n",
    "print(len(relevant_features))\n",
    "\n",
    "df2 = df2[['is_goal', 'area_of_shot_Center(C)', 'shot_basics_Goal Area',\n",
    "       'range_of_shot_24+ ft.', 'range_of_shot_Less Than 8 ft.', 'location_y',\n",
    "       'distance_of_shot']]"
   ]
  },
  {
   "cell_type": "code",
   "execution_count": 415,
   "metadata": {},
   "outputs": [],
   "source": [
    "# p = ['match_event_id', 'location_x', 'location_y', 'remaining_sec', 'distance_of_shot', \n",
    "#      'remaining_min.1', 'power_of_shot.1', 'knockout_match.1', 'remaining_sec.1', 'distance_of_shot.1', \n",
    "#      'latitude', 'longitude']\n",
    "\n",
    "# for i in p:\n",
    "#     df2[i].fillna((df2[i].median()), inplace=True)\n",
    "\n",
    "# print(df2.isnull().sum(axis = 0))"
   ]
  },
  {
   "cell_type": "code",
   "execution_count": 416,
   "metadata": {},
   "outputs": [],
   "source": [
    "train = df2.loc[~df2['is_goal'].isnull()]\n",
    "test = df2.loc[df2['is_goal'].isnull()]\n",
    "\n",
    "train, valid = train_test_split(train, test_size=0.2)\n",
    "\n",
    "X_train = train.drop('is_goal', axis=1)\n",
    "y_train = train['is_goal']\n",
    "\n",
    "X_valid = valid.drop('is_goal', axis=1)\n",
    "y_valid = valid['is_goal']\n",
    "\n",
    "X_test = test.drop('is_goal', axis=1)"
   ]
  },
  {
   "cell_type": "code",
   "execution_count": 417,
   "metadata": {},
   "outputs": [],
   "source": [
    "def conf_matrix_and_acc(y_test, y_pred):\n",
    "    cm = confusion_matrix(y_test, y_pred)   \n",
    "    print (\"Confusion Matrix : \\n\", cm)\n",
    "    print (\"Accuracy : \", accuracy_score(y_test, y_pred))"
   ]
  },
  {
   "cell_type": "markdown",
   "metadata": {},
   "source": [
    "# Logistic Regression"
   ]
  },
  {
   "cell_type": "code",
   "execution_count": 418,
   "metadata": {},
   "outputs": [],
   "source": [
    "def logistic_regression(x_train, y_train, x_test):\n",
    "    classifier = LogisticRegression(random_state = 0) \n",
    "    classifier.fit(x_train, y_train)\n",
    "    y_pred = classifier.predict(x_test) \n",
    "    return y_pred"
   ]
  },
  {
   "cell_type": "code",
   "execution_count": 419,
   "metadata": {},
   "outputs": [
    {
     "name": "stdout",
     "output_type": "stream",
     "text": [
      "Confusion Matrix : \n",
      " [[2253  461]\n",
      " [1441  731]]\n",
      "Accuracy :  0.6107245190339746\n"
     ]
    }
   ],
   "source": [
    "y_pred = logistic_regression(X_train, y_train, X_valid)\n",
    "conf_matrix_and_acc(y_valid, y_pred)"
   ]
  },
  {
   "cell_type": "markdown",
   "metadata": {},
   "source": [
    "# K - Nearest Neighbors"
   ]
  },
  {
   "cell_type": "code",
   "execution_count": 420,
   "metadata": {},
   "outputs": [],
   "source": [
    "def knn(x_train, y_train, x_test):\n",
    "    knn = KNeighborsClassifier(n_neighbors=5, metric='euclidean')\n",
    "    knn.fit(x_train, y_train)\n",
    "    y_pred = knn.predict(x_test)\n",
    "    return y_pred"
   ]
  },
  {
   "cell_type": "code",
   "execution_count": 421,
   "metadata": {},
   "outputs": [
    {
     "name": "stdout",
     "output_type": "stream",
     "text": [
      "Confusion Matrix : \n",
      " [[1912  802]\n",
      " [1558  614]]\n",
      "Accuracy :  0.5169873106835857\n"
     ]
    }
   ],
   "source": [
    "y_pred = knn(X_train, y_train, X_valid)\n",
    "conf_matrix_and_acc(y_valid, y_pred)"
   ]
  },
  {
   "cell_type": "markdown",
   "metadata": {},
   "source": [
    "# Support Vector Classifiers and Variants"
   ]
  },
  {
   "cell_type": "code",
   "execution_count": 422,
   "metadata": {},
   "outputs": [],
   "source": [
    "def svc(x_train, y_train, x_test):\n",
    "    svm = SVC()\n",
    "    svm.fit(x_train, y_train)\n",
    "    y_pred = svm.predict(x_test)\n",
    "    return y_pred"
   ]
  },
  {
   "cell_type": "code",
   "execution_count": 423,
   "metadata": {},
   "outputs": [
    {
     "name": "stdout",
     "output_type": "stream",
     "text": [
      "Confusion Matrix : \n",
      " [[2053  661]\n",
      " [1317  855]]\n",
      "Accuracy :  0.5951698731068359\n"
     ]
    }
   ],
   "source": [
    "y_pred = svc(X_train, y_train, X_valid)\n",
    "conf_matrix_and_acc(y_valid, y_pred)"
   ]
  },
  {
   "cell_type": "code",
   "execution_count": 424,
   "metadata": {},
   "outputs": [],
   "source": [
    "def linear_svc(x_train, y_train, x_test):\n",
    "    lsvc = LinearSVC()\n",
    "    lsvc.fit(x_train, y_train)\n",
    "    y_pred = lsvc.predict(x_test)\n",
    "    return y_pred"
   ]
  },
  {
   "cell_type": "code",
   "execution_count": 425,
   "metadata": {},
   "outputs": [
    {
     "name": "stdout",
     "output_type": "stream",
     "text": [
      "Confusion Matrix : \n",
      " [[1154 1560]\n",
      " [1119 1053]]\n",
      "Accuracy :  0.45169873106835856\n"
     ]
    }
   ],
   "source": [
    "y_pred = linear_svc(X_train, y_train, X_valid)\n",
    "conf_matrix_and_acc(y_valid, y_pred)"
   ]
  },
  {
   "cell_type": "markdown",
   "metadata": {},
   "source": [
    "# Naive Bayes' and Variants"
   ]
  },
  {
   "cell_type": "code",
   "execution_count": 426,
   "metadata": {},
   "outputs": [],
   "source": [
    "def bernoulli_nb(x_train, y_train, x_test):\n",
    "    bnb = BernoulliNB()\n",
    "    bnb.fit(x_train, y_train)\n",
    "    y_pred = bnb.predict(x_test)\n",
    "    return y_pred\n",
    "\n",
    "def gaussian_nb(x_train, y_train, x_test):\n",
    "    gnb = GaussianNB()\n",
    "    gnb.fit(x_train, y_train)\n",
    "    y_pred = gnb.predict(x_test)\n",
    "    return y_pred"
   ]
  },
  {
   "cell_type": "code",
   "execution_count": 427,
   "metadata": {},
   "outputs": [
    {
     "name": "stdout",
     "output_type": "stream",
     "text": [
      "Confusion Matrix : \n",
      " [[2049  665]\n",
      " [1309  863]]\n",
      "Accuracy :  0.5959885386819485\n"
     ]
    }
   ],
   "source": [
    "y_pred = bernoulli_nb(X_train, y_train, X_valid)\n",
    "conf_matrix_and_acc(y_valid, y_pred)"
   ]
  },
  {
   "cell_type": "code",
   "execution_count": 428,
   "metadata": {},
   "outputs": [
    {
     "name": "stdout",
     "output_type": "stream",
     "text": [
      "Confusion Matrix : \n",
      " [[1992  722]\n",
      " [1260  912]]\n",
      "Accuracy :  0.5943512075317233\n"
     ]
    }
   ],
   "source": [
    "y_pred = gaussian_nb(X_train, y_train, X_valid)\n",
    "conf_matrix_and_acc(y_valid, y_pred)"
   ]
  },
  {
   "cell_type": "markdown",
   "metadata": {},
   "source": [
    "# Decision Trees"
   ]
  },
  {
   "cell_type": "code",
   "execution_count": 429,
   "metadata": {},
   "outputs": [],
   "source": [
    "def decision_tree(x_train, y_train, x_test):\n",
    "    dt = DecisionTreeClassifier()\n",
    "    dt.fit(x_train, y_train)\n",
    "    y_pred = dt.predict(x_test)\n",
    "    return y_pred"
   ]
  },
  {
   "cell_type": "code",
   "execution_count": 430,
   "metadata": {},
   "outputs": [
    {
     "name": "stdout",
     "output_type": "stream",
     "text": [
      "Confusion Matrix : \n",
      " [[1708 1006]\n",
      " [1115 1057]]\n",
      "Accuracy :  0.5659025787965616\n"
     ]
    }
   ],
   "source": [
    "y_pred = decision_tree(X_train, y_train, X_valid)\n",
    "conf_matrix_and_acc(y_valid, y_pred)"
   ]
  },
  {
   "cell_type": "markdown",
   "metadata": {},
   "source": [
    "# Random Forest"
   ]
  },
  {
   "cell_type": "code",
   "execution_count": 431,
   "metadata": {},
   "outputs": [],
   "source": [
    "def random_forest(x_train, y_train, x_test):\n",
    "    classifier = RandomForestClassifier(n_estimators = 100, random_state = 0) \n",
    "    classifier.fit(x_train, y_train) \n",
    "    y_pred = classifier.predict(x_test)\n",
    "    return y_pred"
   ]
  },
  {
   "cell_type": "code",
   "execution_count": 432,
   "metadata": {},
   "outputs": [
    {
     "name": "stdout",
     "output_type": "stream",
     "text": [
      "Confusion Matrix : \n",
      " [[1591 1123]\n",
      " [1027 1145]]\n",
      "Accuracy :  0.5599672533769955\n"
     ]
    }
   ],
   "source": [
    "y_pred = random_forest(X_train, y_train, X_valid)\n",
    "conf_matrix_and_acc(y_valid, y_pred)"
   ]
  },
  {
   "cell_type": "code",
   "execution_count": null,
   "metadata": {},
   "outputs": [],
   "source": []
  }
 ],
 "metadata": {
  "kernelspec": {
   "display_name": "Python 3",
   "language": "python",
   "name": "python3"
  },
  "language_info": {
   "codemirror_mode": {
    "name": "ipython",
    "version": 3
   },
   "file_extension": ".py",
   "mimetype": "text/x-python",
   "name": "python",
   "nbconvert_exporter": "python",
   "pygments_lexer": "ipython3",
   "version": "3.6.7"
  }
 },
 "nbformat": 4,
 "nbformat_minor": 2
}
